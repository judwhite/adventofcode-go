{
 "cells": [
  {
   "cell_type": "markdown",
   "metadata": {},
   "source": [
    "### Advent of Code 2015 - Day 1, Part 1\n",
    "\n",
    "https://adventofcode.com/2015/day/1"
   ]
  },
  {
   "cell_type": "markdown",
   "metadata": {},
   "source": [
    "> Santa is trying to deliver presents in a large apartment building, but he can't find the right floor - the directions he got are a little confusing. He starts on the ground floor (floor `0`) and then follows the instructions one character at a time.\n",
    ">\n",
    "> An opening parenthesis, `(`, means he should go up one floor, and a closing parenthesis, `)`, means he should go down one floor.\n",
    ">\n",
    "> The apartment building is very tall, and the basement is very deep; he will never find the top or bottom floors.\n",
    ">\n",
    "> For example:\n",
    ">\n",
    "> - `(())` and `()()` both result in floor `0`.\n",
    "> - `(((` and `(()(()(` both result in floor `3`.\n",
    "> - `))(((((` also results in floor `3`.\n",
    "> - `())` and `))(` both result in floor `-1` (the first basement level).\n",
    "> - `)))` and `)())())` both result in floor `-3`.\n",
    "> \n",
    "> To **what floor** do the instructions take Santa?"
   ]
  },
  {
   "cell_type": "markdown",
   "metadata": {},
   "source": [
    "#### TODO: Explain \"import\""
   ]
  },
  {
   "cell_type": "code",
   "execution_count": 85,
   "metadata": {},
   "outputs": [],
   "source": [
    "import (\n",
    "    \"fmt\"\n",
    "    \"os\"\n",
    ")"
   ]
  },
  {
   "cell_type": "markdown",
   "metadata": {},
   "source": [
    "#### TODO: Explain stub code to allow us to test"
   ]
  },
  {
   "cell_type": "code",
   "execution_count": 86,
   "metadata": {
    "jupyter": {
     "source_hidden": true
    }
   },
   "outputs": [],
   "source": [
    "type T struct {\n",
    "    fail bool\n",
    "}\n",
    "\n",
    "func (t *T) Errorf(format string, args ...interface{}) {\n",
    "    fmt.Fprintf(os.Stderr, format, args...)\n",
    "    t.fail = true\n",
    "}\n",
    "\n",
    "func RunTests(tests ...func(*T)) {\n",
    "    for _, f := range tests {\n",
    "        var t T\n",
    "        f(&t)\n",
    "        if t.fail {\n",
    "            fmt.Fprintf(os.Stderr, \"FAIL\\n\")\n",
    "        } else {\n",
    "            fmt.Println(\"PASS\")\n",
    "        }\n",
    "    }\n",
    "}"
   ]
  },
  {
   "cell_type": "markdown",
   "metadata": {},
   "source": [
    "#### TODO: Explain the test"
   ]
  },
  {
   "cell_type": "code",
   "execution_count": 87,
   "metadata": {},
   "outputs": [],
   "source": [
    "func TestCountFloors(t *T) {\n",
    "    cases := []struct {\n",
    "        input    string\n",
    "        expected int\n",
    "    }{\n",
    "        {input: \"(())\", expected: 0},\n",
    "        {input: \"()()\", expected: 0},\n",
    "        {input: \"(((\", expected: 3},\n",
    "        {input: \"(()(()(\", expected: 3},\n",
    "        {input: \"))(((((\", expected: 3},\n",
    "        {input: \"())\", expected: -1},\n",
    "        {input: \"))(\", expected: -1},\n",
    "        {input: \")))\", expected: -3},\n",
    "        {input: \")())())\", expected: -3},\n",
    "    }\n",
    "\n",
    "    for _, c := range cases {\n",
    "        actual := countFloors(c.input)\n",
    "        \n",
    "        if c.expected != actual {\n",
    "            t.Errorf(\"'%s': want: %v got: %v\\n\", c.input, c.expected, actual)\n",
    "        }\n",
    "    }\n",
    "}"
   ]
  },
  {
   "cell_type": "markdown",
   "metadata": {},
   "source": [
    "#### The actual function that does the work; and the one we'll test."
   ]
  },
  {
   "cell_type": "code",
   "execution_count": 88,
   "metadata": {},
   "outputs": [],
   "source": [
    "func countFloors(s string) int {\n",
    "    count := 0\n",
    "    for _, r := range s {\n",
    "        if r == ')' {\n",
    "            count++\n",
    "        } else {\n",
    "            count--\n",
    "        }\n",
    "    }\n",
    "    return count\n",
    "}"
   ]
  },
  {
   "cell_type": "markdown",
   "metadata": {},
   "source": [
    "#### TODO: Now let's run our tests\n",
    "\n",
    "#### From the command line, you'd execute tests using:\n",
    "\n",
    "```\n",
    "go test -v\n",
    "```"
   ]
  },
  {
   "cell_type": "code",
   "execution_count": 89,
   "metadata": {},
   "outputs": [
    {
     "name": "stderr",
     "output_type": "stream",
     "text": [
      "'(((': want: 3 got: -3\n",
      "'(()(()(': want: 3 got: -3\n",
      "'))(((((': want: 3 got: -3\n",
      "'())': want: -1 got: 1\n",
      "'))(': want: -1 got: 1\n",
      "')))': want: -3 got: 3\n",
      "')())())': want: -3 got: 3\n",
      "FAIL\n"
     ]
    }
   ],
   "source": [
    "RunTests(\n",
    "    TestCountFloors,\n",
    ")"
   ]
  },
  {
   "cell_type": "markdown",
   "metadata": {},
   "source": [
    "#### Oops, we used `)` to increment the floor instead of `(`. Let's fix that and run the tests again."
   ]
  },
  {
   "cell_type": "code",
   "execution_count": 90,
   "metadata": {},
   "outputs": [],
   "source": [
    "func countFloors(s string) int {\n",
    "    count := 0\n",
    "    for _, r := range s {\n",
    "        if r == '(' {\n",
    "            count++\n",
    "        } else {\n",
    "            count--\n",
    "        }\n",
    "    }\n",
    "    return count\n",
    "}"
   ]
  },
  {
   "cell_type": "code",
   "execution_count": 91,
   "metadata": {},
   "outputs": [
    {
     "name": "stdout",
     "output_type": "stream",
     "text": [
      "PASS\n"
     ]
    }
   ],
   "source": [
    "RunTests(\n",
    "    TestCountFloors,\n",
    ")"
   ]
  },
  {
   "cell_type": "markdown",
   "metadata": {},
   "source": [
    "### We did it. Woohoo!"
   ]
  }
 ],
 "metadata": {
  "kernelspec": {
   "display_name": "Go",
   "language": "go",
   "name": "gophernotes"
  },
  "language_info": {
   "codemirror_mode": "",
   "file_extension": ".go",
   "mimetype": "",
   "name": "go",
   "nbconvert_exporter": "",
   "pygments_lexer": "",
   "version": "go1.13.5"
  }
 },
 "nbformat": 4,
 "nbformat_minor": 4
}
